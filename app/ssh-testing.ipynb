{
 "cells": [
  {
   "cell_type": "code",
   "execution_count": 6,
   "metadata": {},
   "outputs": [],
   "source": [
    "import paramiko"
   ]
  },
  {
   "cell_type": "code",
   "execution_count": 7,
   "metadata": {},
   "outputs": [],
   "source": [
    "def verifyUm6pEmail(email):\n",
    "    if email.split(\"@\")[1] == \"um6p.ma\":\n",
    "        return True\n",
    "    return False\n",
    "\n",
    "def getUserName(email):\n",
    "    return email.split(\"@\")[0]"
   ]
  },
  {
   "cell_type": "code",
   "execution_count": 8,
   "metadata": {},
   "outputs": [],
   "source": [
    "um6pEmail = \"othmane.azoubi@um6p.ma\"\n",
    "host = \"simlab-cluster.um6p.ma\"\n",
    "username = getUserName(um6pEmail)\n",
    "password = \"hhhh ts7ab lik atl9a password diali hhhhh\""
   ]
  },
  {
   "cell_type": "code",
   "execution_count": 9,
   "metadata": {},
   "outputs": [],
   "source": [
    "def execute_ssh_command(host, username, password, command):\n",
    "    try: \n",
    "        client = paramiko.SSHClient()\n",
    "        client.set_missing_host_key_policy(paramiko.AutoAddPolicy())\n",
    "        try:\n",
    "            client.connect(hostname=host, username=username, password=password)\n",
    "            stdin, stdout, stderr = client.exec_command(command)\n",
    "            return stdout.read().decode().strip(), stderr.read().decode().strip()\n",
    "        finally:\n",
    "            client.close()\n",
    "    except Exception as AuthenticationException:\n",
    "        return \"authfailed\", \"authfailed\"\n"
   ]
  },
  {
   "cell_type": "code",
   "execution_count": 10,
   "metadata": {},
   "outputs": [
    {
     "name": "stdout",
     "output_type": "stream",
     "text": [
      "Output: defq*,65,191,44,300\n",
      "gpu,247,193,88,528\n",
      "shortq,65,191,44,300\n",
      "longq,65,191,44,300\n",
      "visu,0,44,0,44\n",
      "special,282,370,88,740\n"
     ]
    }
   ],
   "source": [
    "command = 'sinfo --noheader --format=\"%P,%C\" | awk -F\\'[,/]{1}\\' \\'{print $1\",\"$2\",\"$3\",\"$4\",\"$5}\\''\n",
    "\n",
    "stdout, stderr = execute_ssh_command(host, username, password, command)\n",
    "if stdout:\n",
    "    print(\"Output:\", stdout)\n",
    "if stderr:\n",
    "    print(\"Error:\", stderr)"
   ]
  }
 ],
 "metadata": {
  "kernelspec": {
   "display_name": "Python 3",
   "language": "python",
   "name": "python3"
  },
  "language_info": {
   "codemirror_mode": {
    "name": "ipython",
    "version": 3
   },
   "file_extension": ".py",
   "mimetype": "text/x-python",
   "name": "python",
   "nbconvert_exporter": "python",
   "pygments_lexer": "ipython3",
   "version": "3.11.2"
  }
 },
 "nbformat": 4,
 "nbformat_minor": 2
}
