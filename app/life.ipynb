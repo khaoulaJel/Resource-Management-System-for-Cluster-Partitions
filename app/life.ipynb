{
 "cells": [
  {
   "cell_type": "code",
   "execution_count": 12,
   "metadata": {},
   "outputs": [],
   "source": [
    "import subprocess\n",
    "import csv\n",
    "import pandas as pd\n",
    "\n",
    "# SSH connection details\n",
    "hostname = \"your_remote_host\"\n",
    "username = \"your_username\"\n",
    "sinfo_command = 'sinfo --noheader --format=\"%P,%C\" | awk -F\\'[,/]{1}\\' \\'{print $1\",\"$2\",\"$3\",\"$4\",\"$5}\\''\n",
    "\n",
    "#ssh_command = f'ssh {username}@{hostname} \"{sinfo_command}\"'\n",
    "\n",
    "ssh_command =  f'ssh simlab \"{sinfo_command}\"'"
   ]
  },
  {
   "cell_type": "code",
   "execution_count": 13,
   "metadata": {},
   "outputs": [],
   "source": [
    "result = subprocess.run(ssh_command, shell=True, stdout=subprocess.PIPE, stderr=subprocess.PIPE, text=True)\n",
    "\n",
    "output = result.stdout.strip()\n",
    "error = result.stderr.strip()"
   ]
  },
  {
   "cell_type": "code",
   "execution_count": 20,
   "metadata": {},
   "outputs": [
    {
     "data": {
      "text/html": [
       "<div>\n",
       "<style scoped>\n",
       "    .dataframe tbody tr th:only-of-type {\n",
       "        vertical-align: middle;\n",
       "    }\n",
       "\n",
       "    .dataframe tbody tr th {\n",
       "        vertical-align: top;\n",
       "    }\n",
       "\n",
       "    .dataframe thead th {\n",
       "        text-align: right;\n",
       "    }\n",
       "</style>\n",
       "<table border=\"1\" class=\"dataframe\">\n",
       "  <thead>\n",
       "    <tr style=\"text-align: right;\">\n",
       "      <th></th>\n",
       "      <th>PARTITION</th>\n",
       "      <th>CPUS_A</th>\n",
       "      <th>CPUS_I</th>\n",
       "      <th>CPUS_O</th>\n",
       "      <th>CPUS_T</th>\n",
       "    </tr>\n",
       "  </thead>\n",
       "  <tbody>\n",
       "    <tr>\n",
       "      <th>0</th>\n",
       "      <td>defq*</td>\n",
       "      <td>138</td>\n",
       "      <td>118</td>\n",
       "      <td>44</td>\n",
       "      <td>300</td>\n",
       "    </tr>\n",
       "    <tr>\n",
       "      <th>1</th>\n",
       "      <td>gpu</td>\n",
       "      <td>276</td>\n",
       "      <td>164</td>\n",
       "      <td>88</td>\n",
       "      <td>528</td>\n",
       "    </tr>\n",
       "    <tr>\n",
       "      <th>2</th>\n",
       "      <td>shortq</td>\n",
       "      <td>138</td>\n",
       "      <td>118</td>\n",
       "      <td>44</td>\n",
       "      <td>300</td>\n",
       "    </tr>\n",
       "    <tr>\n",
       "      <th>3</th>\n",
       "      <td>longq</td>\n",
       "      <td>138</td>\n",
       "      <td>118</td>\n",
       "      <td>44</td>\n",
       "      <td>300</td>\n",
       "    </tr>\n",
       "    <tr>\n",
       "      <th>4</th>\n",
       "      <td>visu</td>\n",
       "      <td>0</td>\n",
       "      <td>44</td>\n",
       "      <td>0</td>\n",
       "      <td>44</td>\n",
       "    </tr>\n",
       "    <tr>\n",
       "      <th>5</th>\n",
       "      <td>special</td>\n",
       "      <td>370</td>\n",
       "      <td>282</td>\n",
       "      <td>88</td>\n",
       "      <td>740</td>\n",
       "    </tr>\n",
       "  </tbody>\n",
       "</table>\n",
       "</div>"
      ],
      "text/plain": [
       "  PARTITION  CPUS_A  CPUS_I  CPUS_O  CPUS_T\n",
       "0     defq*     138     118      44     300\n",
       "1       gpu     276     164      88     528\n",
       "2    shortq     138     118      44     300\n",
       "3     longq     138     118      44     300\n",
       "4      visu       0      44       0      44\n",
       "5   special     370     282      88     740"
      ]
     },
     "execution_count": 20,
     "metadata": {},
     "output_type": "execute_result"
    }
   ],
   "source": [
    "data = []\n",
    "for line in output.splitlines():\n",
    "    data.append(line.split(\" \"))\n",
    "\n",
    "df = pd.DataFrame(data, columns=[\"PARTITION\", \"CPUS_A\", \"CPUS_I\", \"CPUS_O\", \"CPUS_T\"])\n",
    "\n",
    "for col in [\"CPUS_A\", \"CPUS_I\", \"CPUS_O\", \"CPUS_T\"]:\n",
    "    df[col] = pd.to_numeric(df[col])\n",
    "\n",
    "\n",
    "df"
   ]
  },
  {
   "cell_type": "code",
   "execution_count": null,
   "metadata": {},
   "outputs": [],
   "source": []
  }
 ],
 "metadata": {
  "kernelspec": {
   "display_name": "Python 3",
   "language": "python",
   "name": "python3"
  },
  "language_info": {
   "codemirror_mode": {
    "name": "ipython",
    "version": 3
   },
   "file_extension": ".py",
   "mimetype": "text/x-python",
   "name": "python",
   "nbconvert_exporter": "python",
   "pygments_lexer": "ipython3",
   "version": "3.12.6"
  }
 },
 "nbformat": 4,
 "nbformat_minor": 2
}
